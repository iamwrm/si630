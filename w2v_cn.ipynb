{
 "cells": [
  {
   "cell_type": "code",
   "execution_count": 9,
   "metadata": {
    "ExecuteTime": {
     "end_time": "2020-04-28T20:06:49.901794Z",
     "start_time": "2020-04-28T20:06:49.890944Z"
    }
   },
   "outputs": [],
   "source": [
    "import jieba\n",
    "from sklearn.model_selection import train_test_split\n",
    "from gensim.models import Word2Vec\n",
    "from gensim.test.utils import common_texts, get_tmpfile\n",
    "import sklearn\n",
    "import scipy\n",
    "from gensim.test.utils import datapath\n",
    "from gensim.corpora import Dictionary\n",
    "from gensim.corpora import MalletCorpus\n",
    "from gensim.test.utils import get_tmpfile, common_texts\n",
    "from gensim.models.wrappers import LdaMallet\n",
    "from gensim.test.utils import common_corpus, common_dictionary\n",
    "import time\n",
    "from collections import defaultdict\n",
    "from random import random, randint\n",
    "from glob import glob\n",
    "from math import log\n",
    "import argparse\n",
    "\n",
    "from nltk.corpus import stopwords\n",
    "from nltk.probability import FreqDist\n",
    "\n",
    "from nltk.tokenize import TreebankWordTokenizer\n",
    "kTOKENIZER = TreebankWordTokenizer()\n",
    "kDOC_NORMALIZER = True"
   ]
  },
  {
   "cell_type": "code",
   "execution_count": 11,
   "metadata": {
    "ExecuteTime": {
     "end_time": "2020-04-28T20:06:55.038176Z",
     "start_time": "2020-04-28T20:06:53.414973Z"
    }
   },
   "outputs": [
    {
     "name": "stdout",
     "output_type": "stream",
     "text": [
      "1\n"
     ]
    }
   ],
   "source": [
    "search_path = \"%s/*.txt\" % './lit/cn'\n",
    "\n",
    "files = glob(search_path)\n",
    "\n",
    "documents = []\n",
    "\n",
    "for i in files:\n",
    "    contents = open(i).read()\n",
    "    documents.append(contents)\n",
    "\n",
    "\n",
    "texts_cn = [\n",
    "    [word for word in jieba.cut(document)] for document in documents\n",
    "]\n",
    "\n",
    "\n",
    "print(len(texts_cn))"
   ]
  },
  {
   "cell_type": "code",
   "execution_count": 7,
   "metadata": {
    "ExecuteTime": {
     "end_time": "2020-04-28T20:06:40.637706Z",
     "start_time": "2020-04-28T20:06:40.631671Z"
    }
   },
   "outputs": [],
   "source": [
    "# texts_cn[0]"
   ]
  },
  {
   "cell_type": "code",
   "execution_count": 13,
   "metadata": {
    "ExecuteTime": {
     "end_time": "2020-04-28T20:07:15.485385Z",
     "start_time": "2020-04-28T20:07:11.388687Z"
    }
   },
   "outputs": [],
   "source": [
    "path = get_tmpfile(\"word2vec.model\")\n",
    "model = Word2Vec(texts_cn, size=100, window=5, min_count=1, workers=4)\n",
    "model.save(\"word2vec.model\")\n",
    "\n",
    "model = Word2Vec.load(\"word2vec.model\")\n",
    "# model.train([[\"hello\", \"world\"]], total_examples=1, epochs=1)\n",
    "\n",
    "# model.wv['computer'] "
   ]
  },
  {
   "cell_type": "code",
   "execution_count": 15,
   "metadata": {
    "ExecuteTime": {
     "end_time": "2020-04-28T20:07:20.954053Z",
     "start_time": "2020-04-28T20:07:18.892448Z"
    }
   },
   "outputs": [
    {
     "data": {
      "text/plain": [
       "(1000000, 15105900)"
      ]
     },
     "execution_count": 15,
     "metadata": {},
     "output_type": "execute_result"
    }
   ],
   "source": [
    "model.train(texts_cn,total_examples=model.corpus_count, epochs=100)\n"
   ]
  },
  {
   "cell_type": "code",
   "execution_count": 31,
   "metadata": {
    "ExecuteTime": {
     "end_time": "2020-04-28T15:30:41.112692Z",
     "start_time": "2020-04-28T15:30:41.110168Z"
    }
   },
   "outputs": [],
   "source": [
    "# model.wv['computer'] "
   ]
  },
  {
   "cell_type": "code",
   "execution_count": 16,
   "metadata": {
    "ExecuteTime": {
     "end_time": "2020-04-28T20:07:33.672256Z",
     "start_time": "2020-04-28T20:07:33.664619Z"
    }
   },
   "outputs": [
    {
     "data": {
      "text/plain": [
       "array([[0.96370363]], dtype=float32)"
      ]
     },
     "execution_count": 16,
     "metadata": {},
     "output_type": "execute_result"
    }
   ],
   "source": [
    "sklearn.metrics.pairwise.cosine_similarity([model.wv['傲慢']] ,[model.wv['偏见']] )"
   ]
  },
  {
   "cell_type": "code",
   "execution_count": 18,
   "metadata": {
    "ExecuteTime": {
     "end_time": "2020-04-28T20:08:53.568632Z",
     "start_time": "2020-04-28T20:08:53.557910Z"
    }
   },
   "outputs": [
    {
     "name": "stderr",
     "output_type": "stream",
     "text": [
      "/opt/conda/lib/python3.7/site-packages/ipykernel_launcher.py:1: DeprecationWarning: Call to deprecated `most_similar` (Method will be removed in 4.0.0, use self.wv.most_similar() instead).\n",
      "  \"\"\"Entry point for launching an IPython kernel.\n"
     ]
    },
    {
     "data": {
      "text/plain": [
       "[('傲慢', 1.0),\n",
       " ('《', 0.9809966087341309),\n",
       " ('偏见', 0.9637037515640259),\n",
       " ('面面观', 0.9245455265045166),\n",
       " ('分析', 0.9099291563034058),\n",
       " ('与', 0.9087064266204834),\n",
       " ('莎士比亚', 0.9055352210998535),\n",
       " ('小天地', 0.8985626697540283),\n",
       " ('达到顶点', 0.8959325551986694),\n",
       " ('》', 0.8957887887954712),\n",
       " ('媲美', 0.8924852609634399),\n",
       " ('深度', 0.8842837810516357),\n",
       " ('这里', 0.8822361826896667),\n",
       " ('素来', 0.8793296813964844),\n",
       " ('教训', 0.8791599273681641),\n",
       " ('真正', 0.8783146739006042),\n",
       " ('高潮', 0.8777378797531128),\n",
       " ('出大', 0.8772859573364258),\n",
       " ('至此', 0.877181887626648),\n",
       " ('专门', 0.8766664266586304)]"
      ]
     },
     "execution_count": 18,
     "metadata": {},
     "output_type": "execute_result"
    }
   ],
   "source": [
    "model.most_similar(positive=[model.wv['傲慢']], topn=20)"
   ]
  }
 ],
 "metadata": {
  "kernelspec": {
   "display_name": "Python 3",
   "language": "python",
   "name": "python3"
  },
  "language_info": {
   "codemirror_mode": {
    "name": "ipython",
    "version": 3
   },
   "file_extension": ".py",
   "mimetype": "text/x-python",
   "name": "python",
   "nbconvert_exporter": "python",
   "pygments_lexer": "ipython3",
   "version": "3.7.6"
  },
  "toc": {
   "base_numbering": 1,
   "nav_menu": {},
   "number_sections": false,
   "sideBar": true,
   "skip_h1_title": false,
   "title_cell": "Table of Contents",
   "title_sidebar": "Contents",
   "toc_cell": false,
   "toc_position": {},
   "toc_section_display": true,
   "toc_window_display": false
  }
 },
 "nbformat": 4,
 "nbformat_minor": 2
}
